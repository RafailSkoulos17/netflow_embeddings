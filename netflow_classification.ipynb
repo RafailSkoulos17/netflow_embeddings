{
 "cells": [
  {
   "cell_type": "code",
   "execution_count": 1,
   "metadata": {},
   "outputs": [],
   "source": [
    "import pandas as pd\n",
    "import numpy as np\n",
    "import matplotlib.pyplot as plt\n",
    "from utils import read_data\n",
    "from gensim.models import FastText\n",
    "from copy import deepcopy\n",
    "from sklearn.model_selection import train_test_split\n",
    "from sklearn.ensemble import RandomForestClassifier\n",
    "from sklearn.model_selection import StratifiedKFold\n",
    "import warnings\n",
    "with warnings.catch_warnings():\n",
    "    warnings.filterwarnings(\"ignore\", category=DeprecationWarning)\n",
    "    from imblearn.over_sampling import SMOTE"
   ]
  },
  {
   "cell_type": "markdown",
   "metadata": {},
   "source": [
    "## Helper functions"
   ]
  },
  {
   "cell_type": "code",
   "execution_count": 2,
   "metadata": {},
   "outputs": [],
   "source": [
    "def make_clf(usx, usy, clf, clf_name, level):\n",
    "    \"\"\"\n",
    "    Function for the classification task - Trains and tests the classifier clf using 10-fold cross-validation\n",
    "    The sampling parameter sets the type of sampling to be used\n",
    "    :param usx: the input instances\n",
    "    :param usy: the labels of the instances\n",
    "    :param clf: the classifier to be used\n",
    "    :param clf_name: the name of the classifier (for plotting reasons)\n",
    "    :param level: the evaluation level (for plotting reasons)\n",
    "    :return: the classification results\n",
    "    \"\"\"\n",
    "    print('---------- Hold-out with {} at {} level ----------'.format(clf_name, level))\n",
    "    \n",
    "    x_train, x_test, y_train, y_test = train_test_split(usx, usy, test_size=0.3, stratify=usy,random_state=42)\n",
    "    \n",
    "    totalTP, totalFP, totalFN, totalTN = 0, 0, 0, 0\n",
    "    # apply SMOTE for imbalance issues\n",
    "    x_train, y_train = SMOTE(sampling_strategy=0.5, k_neighbors=1).fit_resample(x_train, y_train)\n",
    "\n",
    "    # fit the model and make predictions\n",
    "    clf.fit(x_train, y_train)\n",
    "    y_predict = clf.predict(x_test)\n",
    "\n",
    "    for i in range(len(y_predict)):\n",
    "        if y_test[i] and y_predict[i]:\n",
    "            totalTP += 1\n",
    "        if not y_test[i] and y_predict[i]:\n",
    "            totalFP += 1\n",
    "        if y_test[i] and not y_predict[i]:\n",
    "            totalFN += 1\n",
    "        if not y_test[i] and not y_predict[i]:\n",
    "            totalTN += 1\n",
    "\n",
    "    # just in case that no TP or FP are found\n",
    "    if not (totalTP + totalFP):\n",
    "        precision = 1\n",
    "    else:\n",
    "        precision = totalTP / (totalTP + totalFP)\n",
    "    recall = totalTP / (totalTP + totalFN)\n",
    "    accuracy = (totalTP + totalTN) / (totalTP + totalFN + totalTN + totalFP)\n",
    "    print('TOTAL TP: ' + str(totalTP))\n",
    "    print('TOTAL FP: ' + str(totalFP))\n",
    "    print('TOTAL FN: ' + str(totalFN))\n",
    "    print('TOTAL TN: ' + str(totalTN))\n",
    "    print('TOTAL Accuracy: ' + str(accuracy))\n",
    "    print('TOTAL Precision: ' + str(precision))\n",
    "    print('TOTAL Recall: ' + str(recall))"
   ]
  },
  {
   "cell_type": "code",
   "execution_count": 3,
   "metadata": {},
   "outputs": [],
   "source": [
    "def make_clf_cross(usx, usy, clf, clf_name, level):\n",
    "    \"\"\"\n",
    "    Function for the classification task - Trains and tests the classifier clf using 10-fold cross-validation\n",
    "    The sampling parameter sets the type of sampling to be used\n",
    "    :param usx: the input instances\n",
    "    :param usy: the labels of the instances\n",
    "    :param clf: the classifier to be used\n",
    "    :param clf_name: the name of the classifier (for plotting reasons)\n",
    "    :param level: the evaluation level (for plotting reasons)\n",
    "    :return: the classification results\n",
    "    \"\"\"\n",
    "    print('---------- Cross-validation with {} at {} level ----------'.format(clf_name, level))\n",
    "    totalTP, totalFP, totalFN, totalTN = 0, 0, 0, 0\n",
    "    j = 0\n",
    "    skf = StratifiedKFold(n_splits=3, shuffle=True)  # apply 10-fold stratified cross validation\n",
    "    for train_index, test_index in skf.split(usx, usy):\n",
    "\n",
    "        # split data in training and test set\n",
    "        x_train, x_test = usx[train_index], usx[test_index]\n",
    "        y_train, y_test = usy[train_index], usy[test_index]\n",
    "        # apply SMOTE for imbalance issues\n",
    "        x_train, y_train = SMOTE(sampling_strategy=0.5, k_neighbors=1).fit_resample(x_train, y_train)\n",
    "\n",
    "        # create_clusters(x_train, y_train, train_ips)  # TODO: not fully implemented yet - decisions still to be made\n",
    "\n",
    "        # fit the model and make predictions\n",
    "        clf.fit(x_train, y_train)\n",
    "        y_predict = clf.predict(x_test)\n",
    "\n",
    "        for i in range(len(y_predict)):\n",
    "            if y_test[i] and y_predict[i]:\n",
    "                totalTP += 1\n",
    "            if not y_test[i] and y_predict[i]:\n",
    "                totalFP += 1\n",
    "            if y_test[i] and not y_predict[i]:\n",
    "                totalFN += 1\n",
    "            if not y_test[i] and not y_predict[i]:\n",
    "                totalTN += 1\n",
    "        j += 1\n",
    "\n",
    "    # just in case that no TP or FP are found\n",
    "    if not (totalTP + totalFP):\n",
    "        precision = 1\n",
    "    else:\n",
    "        precision = totalTP / (totalTP + totalFP)\n",
    "    recall = totalTP / (totalTP + totalFN)\n",
    "    accuracy = (totalTP + totalTN) / (totalTP + totalFN + totalTN + totalFP)\n",
    "    print('TOTAL TP: ' + str(totalTP))\n",
    "    print('TOTAL FP: ' + str(totalFP))\n",
    "    print('TOTAL FN: ' + str(totalFN))\n",
    "    print('TOTAL TN: ' + str(totalTN))\n",
    "    print('TOTAL Accuracy: ' + str(accuracy))\n",
    "    print('TOTAL Precision: ' + str(precision))\n",
    "    print('TOTAL Recall: ' + str(recall))"
   ]
  },
  {
   "cell_type": "code",
   "execution_count": 4,
   "metadata": {},
   "outputs": [],
   "source": [
    "def check_infected(val, infected_ips):\n",
    "    \"\"\"\n",
    "    Function to assign labels to instances given their ip\n",
    "    :param val: the flow to be checked\n",
    "    :param infected_ips: the list of infected hosts\n",
    "    :return: 1 if val is in the infected list otherwise 0\n",
    "    \"\"\"\n",
    "    return 1 if val in infected_ips else 0"
   ]
  },
  {
   "cell_type": "code",
   "execution_count": 5,
   "metadata": {},
   "outputs": [],
   "source": [
    "def embedding_host_level(z):\n",
    "    x = []\n",
    "    for i,flow in enumerate(z.iterrows()):\n",
    "        x.append(list(model.wv[z.iloc[i]].sum(axis=0)))\n",
    "    x = np.array(x)\n",
    "    return x.mean(axis=0)"
   ]
  },
  {
   "cell_type": "code",
   "execution_count": 6,
   "metadata": {},
   "outputs": [],
   "source": [
    "def discretize_protocol(item):\n",
    "    return list(protocols).index(item)"
   ]
  },
  {
   "cell_type": "markdown",
   "metadata": {},
   "source": [
    "## Read data"
   ]
  },
  {
   "cell_type": "code",
   "execution_count": 7,
   "metadata": {},
   "outputs": [],
   "source": [
    "infected_host = '147.32.84.165'\n",
    "data = read_data('datasets/CTU-Malware-Capture-Botnet-52')\n",
    "data.to_pickle('./data_52.pkl')\n",
    "# data = pd.read_pickle('./data_52.pkl')"
   ]
  },
  {
   "cell_type": "code",
   "execution_count": 8,
   "metadata": {},
   "outputs": [],
   "source": [
    "# Used to keep the original data\n",
    "data_original = deepcopy(data)"
   ]
  },
  {
   "cell_type": "markdown",
   "metadata": {},
   "source": [
    "# Discretize data\n"
   ]
  },
  {
   "cell_type": "code",
   "execution_count": 9,
   "metadata": {},
   "outputs": [],
   "source": [
    "# discretize protocol\n",
    "protocols = set(data.protocol.unique())\n",
    "data['protocol'] = data['protocol'].apply(lambda x: list(protocols).index(x))"
   ]
  },
  {
   "cell_type": "code",
   "execution_count": 10,
   "metadata": {},
   "outputs": [],
   "source": [
    "# discretize flags\n",
    "\n",
    "flags = set(data.flags.unique())\n",
    "data['flags'] = data['flags'].apply(lambda x: list(flags).index(x))"
   ]
  },
  {
   "cell_type": "code",
   "execution_count": 11,
   "metadata": {},
   "outputs": [],
   "source": [
    "# discretize label\n",
    "\n",
    "data['label'] = data['label'].replace('Botnet', 0)\n",
    "data['label'] = data['label'].replace('LEGITIMATE', 1)"
   ]
  },
  {
   "cell_type": "code",
   "execution_count": 12,
   "metadata": {},
   "outputs": [],
   "source": [
    "# remove background flows and date\n",
    "\n",
    "data = data[data['label'] != 'Background']\n",
    "data.drop(['date'],1, inplace=True)"
   ]
  },
  {
   "cell_type": "code",
   "execution_count": 13,
   "metadata": {},
   "outputs": [],
   "source": [
    "# replace 'na' values in  src and dst port\n",
    "\n",
    "data['src_port'] = data['src_port'].replace('na', 0)\n",
    "data['dst_port'] = data['dst_port'].replace('na', 0)"
   ]
  },
  {
   "cell_type": "code",
   "execution_count": 14,
   "metadata": {},
   "outputs": [
    {
     "data": {
      "text/html": [
       "<div>\n",
       "<style scoped>\n",
       "    .dataframe tbody tr th:only-of-type {\n",
       "        vertical-align: middle;\n",
       "    }\n",
       "\n",
       "    .dataframe tbody tr th {\n",
       "        vertical-align: top;\n",
       "    }\n",
       "\n",
       "    .dataframe thead th {\n",
       "        text-align: right;\n",
       "    }\n",
       "</style>\n",
       "<table border=\"1\" class=\"dataframe\">\n",
       "  <thead>\n",
       "    <tr style=\"text-align: right;\">\n",
       "      <th></th>\n",
       "      <th>index</th>\n",
       "      <th>duration</th>\n",
       "      <th>protocol</th>\n",
       "      <th>src_ip</th>\n",
       "      <th>src_port</th>\n",
       "      <th>dst_ip</th>\n",
       "      <th>dst_port</th>\n",
       "      <th>flags</th>\n",
       "      <th>tos</th>\n",
       "      <th>packets</th>\n",
       "      <th>bytes</th>\n",
       "      <th>flows</th>\n",
       "      <th>label</th>\n",
       "    </tr>\n",
       "  </thead>\n",
       "  <tbody>\n",
       "    <tr>\n",
       "      <th>0</th>\n",
       "      <td>21</td>\n",
       "      <td>0.000</td>\n",
       "      <td>5</td>\n",
       "      <td>147.32.86.194</td>\n",
       "      <td>3972</td>\n",
       "      <td>173.194.1.27</td>\n",
       "      <td>80</td>\n",
       "      <td>96</td>\n",
       "      <td>0</td>\n",
       "      <td>2</td>\n",
       "      <td>108</td>\n",
       "      <td>1</td>\n",
       "      <td>1</td>\n",
       "    </tr>\n",
       "    <tr>\n",
       "      <th>1</th>\n",
       "      <td>22</td>\n",
       "      <td>0.015</td>\n",
       "      <td>5</td>\n",
       "      <td>147.32.86.194</td>\n",
       "      <td>3974</td>\n",
       "      <td>74.125.108.185</td>\n",
       "      <td>80</td>\n",
       "      <td>96</td>\n",
       "      <td>0</td>\n",
       "      <td>2</td>\n",
       "      <td>108</td>\n",
       "      <td>1</td>\n",
       "      <td>1</td>\n",
       "    </tr>\n",
       "    <tr>\n",
       "      <th>2</th>\n",
       "      <td>35</td>\n",
       "      <td>0.000</td>\n",
       "      <td>5</td>\n",
       "      <td>147.32.84.28</td>\n",
       "      <td>56781</td>\n",
       "      <td>147.32.80.13</td>\n",
       "      <td>80</td>\n",
       "      <td>9</td>\n",
       "      <td>0</td>\n",
       "      <td>2</td>\n",
       "      <td>132</td>\n",
       "      <td>1</td>\n",
       "      <td>1</td>\n",
       "    </tr>\n",
       "    <tr>\n",
       "      <th>3</th>\n",
       "      <td>36</td>\n",
       "      <td>0.117</td>\n",
       "      <td>5</td>\n",
       "      <td>147.32.84.164</td>\n",
       "      <td>57264</td>\n",
       "      <td>64.12.68.227</td>\n",
       "      <td>443</td>\n",
       "      <td>72</td>\n",
       "      <td>0</td>\n",
       "      <td>2</td>\n",
       "      <td>114</td>\n",
       "      <td>1</td>\n",
       "      <td>1</td>\n",
       "    </tr>\n",
       "    <tr>\n",
       "      <th>4</th>\n",
       "      <td>37</td>\n",
       "      <td>0.117</td>\n",
       "      <td>5</td>\n",
       "      <td>147.32.84.164</td>\n",
       "      <td>43869</td>\n",
       "      <td>64.12.73.134</td>\n",
       "      <td>443</td>\n",
       "      <td>72</td>\n",
       "      <td>0</td>\n",
       "      <td>2</td>\n",
       "      <td>114</td>\n",
       "      <td>1</td>\n",
       "      <td>1</td>\n",
       "    </tr>\n",
       "  </tbody>\n",
       "</table>\n",
       "</div>"
      ],
      "text/plain": [
       "   index  duration  protocol         src_ip src_port          dst_ip dst_port  \\\n",
       "0     21     0.000         5  147.32.86.194     3972    173.194.1.27       80   \n",
       "1     22     0.015         5  147.32.86.194     3974  74.125.108.185       80   \n",
       "2     35     0.000         5   147.32.84.28    56781    147.32.80.13       80   \n",
       "3     36     0.117         5  147.32.84.164    57264    64.12.68.227      443   \n",
       "4     37     0.117         5  147.32.84.164    43869    64.12.73.134      443   \n",
       "\n",
       "   flags  tos  packets  bytes  flows label  \n",
       "0     96    0        2    108      1     1  \n",
       "1     96    0        2    108      1     1  \n",
       "2      9    0        2    132      1     1  \n",
       "3     72    0        2    114      1     1  \n",
       "4     72    0        2    114      1     1  "
      ]
     },
     "execution_count": 14,
     "metadata": {},
     "output_type": "execute_result"
    }
   ],
   "source": [
    "data.reset_index(inplace=True)\n",
    "data.head()"
   ]
  },
  {
   "cell_type": "markdown",
   "metadata": {},
   "source": [
    "## Classification without embeddings"
   ]
  },
  {
   "cell_type": "code",
   "execution_count": 15,
   "metadata": {},
   "outputs": [
    {
     "name": "stdout",
     "output_type": "stream",
     "text": [
      "Start the classification process\n",
      "---------- Cross-validation with RandomForestClassifier at packet level ----------\n",
      "TOTAL TP: 277671\n",
      "TOTAL FP: 1\n",
      "TOTAL FN: 5\n",
      "TOTAL TN: 11225\n",
      "TOTAL Accuracy: 0.9999792317117916\n",
      "TOTAL Precision: 0.9999963986285978\n",
      "TOTAL Recall: 0.9999819934023826\n",
      "---------- Hold-out with RandomForestClassifier at packet level ----------\n",
      "TOTAL TP: 83298\n",
      "TOTAL FP: 0\n",
      "TOTAL FN: 5\n",
      "TOTAL TN: 3368\n",
      "TOTAL Accuracy: 0.9999423105767788\n",
      "TOTAL Precision: 1.0\n",
      "TOTAL Recall: 0.9999399781520474\n",
      "Start the classification process\n",
      "---------- Cross-validation with RandomForestClassifier at host level ----------\n",
      "TOTAL TP: 2\n",
      "TOTAL FP: 0\n",
      "TOTAL FN: 1\n",
      "TOTAL TN: 117\n",
      "TOTAL Accuracy: 0.9916666666666667\n",
      "TOTAL Precision: 1.0\n",
      "TOTAL Recall: 0.6666666666666666\n",
      "---------- Hold-out with RandomForestClassifier at host level ----------\n",
      "TOTAL TP: 1\n",
      "TOTAL FP: 0\n",
      "TOTAL FN: 0\n",
      "TOTAL TN: 35\n",
      "TOTAL Accuracy: 1.0\n",
      "TOTAL Precision: 1.0\n",
      "TOTAL Recall: 1.0\n"
     ]
    }
   ],
   "source": [
    "# simple classifcation\n",
    "\n",
    "# set the classifiers\n",
    "clf_name = 'RandomForestClassifier'\n",
    "clf = RandomForestClassifier(n_estimators=50, criterion='gini', class_weight='balanced')\n",
    "\n",
    "infected_ips = ['147.32.84.165', '147.32.84.191', '147.32.84.192']\n",
    "\n",
    "# enter the classification phase for each level\n",
    "eval_levels = ['packet', 'host']  # the 2 evaluation levels\n",
    "# eval_levels = ['host']  # the 2 evaluation levels\n",
    "\n",
    "\n",
    "for level in eval_levels:\n",
    "    # prepare the data according to the level\n",
    "\n",
    "    if level == 'host':\n",
    "        new_data = data.groupby('src_ip').mean().reset_index()\n",
    "#         new_data = data.groupby('src_ip').sum().reset_index()\n",
    "\n",
    "    else:\n",
    "        new_data = deepcopy(data)\n",
    "        \n",
    "    # label the processed dataset(s)\n",
    "    new_data['label'] = new_data['src_ip'].apply(lambda z: check_infected(z, infected_ips))\n",
    "\n",
    "    # separate the labels from the rest of the dataset\n",
    "    y = new_data['label'].values\n",
    "    if 'dst_ip' in new_data:\n",
    "        x = new_data.drop(['src_ip','dst_ip', 'label'], axis=1).values\n",
    "    else:\n",
    "        x = new_data.drop(['src_ip', 'label'], axis=1).values\n",
    "\n",
    "    # enter the classification phase\n",
    "    print('Start the classification process')\n",
    "    usx = np.copy(x)\n",
    "    usy = np.copy(y)\n",
    "    make_clf_cross(usx, usy, clf, clf_name, level)\n",
    "    make_clf(usx, usy, clf, clf_name, level)"
   ]
  },
  {
   "cell_type": "markdown",
   "metadata": {},
   "source": [
    "## Classification with embeddings"
   ]
  },
  {
   "cell_type": "markdown",
   "metadata": {},
   "source": [
    "### Split data for model training"
   ]
  },
  {
   "cell_type": "code",
   "execution_count": 16,
   "metadata": {},
   "outputs": [],
   "source": [
    "# split data for the fasttext model training and testing\n",
    "\n",
    "data_train, data_test = train_test_split(data, test_size=0.5, stratify=data['label'])"
   ]
  },
  {
   "cell_type": "markdown",
   "metadata": {},
   "source": [
    "### Train FASTTEXT model"
   ]
  },
  {
   "cell_type": "code",
   "execution_count": 17,
   "metadata": {},
   "outputs": [],
   "source": [
    "# train model\n",
    "\n",
    "df = data_train.apply(lambda x: ','.join(x.astype(str)), axis=1)\n",
    "sent = [row.split(',') for row in df]\n",
    "model = FastText(sent, min_count=1, size=50, workers=2, window=3, sg=1)\n",
    "\n",
    "# save model\n",
    "fname = 'models/fasttext.model'\n",
    "model.save(fname)\n",
    "\n",
    "# load trained model\n",
    "# fname = 'models/fasttext.model'\n",
    "# model = FastText.load(fname)"
   ]
  },
  {
   "cell_type": "markdown",
   "metadata": {},
   "source": [
    "### Build the train data for packet level"
   ]
  },
  {
   "cell_type": "code",
   "execution_count": 18,
   "metadata": {},
   "outputs": [
    {
     "name": "stderr",
     "output_type": "stream",
     "text": [
      "/usr/local/lib/python3.6/dist-packages/ipykernel_launcher.py:6: SettingWithCopyWarning: \n",
      "A value is trying to be set on a copy of a slice from a DataFrame.\n",
      "Try using .loc[row_indexer,col_indexer] = value instead\n",
      "\n",
      "See the caveats in the documentation: http://pandas.pydata.org/pandas-docs/stable/user_guide/indexing.html#returning-a-view-versus-a-copy\n",
      "  \n"
     ]
    }
   ],
   "source": [
    "# Build the train data for packet level\n",
    "\n",
    "packet_x = []\n",
    "infected_ips = ['147.32.84.165', '147.32.84.191', '147.32.84.192']\n",
    "\n",
    "data_test['label'] = data_test['src_ip'].apply(lambda z: check_infected(z, infected_ips))\n",
    "dataset = data_test.drop('label', 1)\n",
    "\n",
    "packet_y = data_test['label'].values\n",
    "for i,flow in enumerate(dataset.iterrows()):\n",
    "    packet_x.append(list(model.wv[dataset.iloc[i]].sum(axis=0)))\n",
    "\n",
    "packet_x = np.array(packet_x)\n",
    "packet_y = np.array(packet_y, dtype=int)"
   ]
  },
  {
   "cell_type": "markdown",
   "metadata": {},
   "source": [
    "### Build the train data for host level\n"
   ]
  },
  {
   "cell_type": "code",
   "execution_count": 19,
   "metadata": {},
   "outputs": [],
   "source": [
    "\n",
    "infected_ips = ['147.32.84.165', '147.32.84.191', '147.32.84.192']\n",
    "\n",
    "new_data_test = data_test.groupby('src_ip').apply(lambda z: embedding_host_level(z)).reset_index()\n",
    "new_data_test['label'] = new_data_test['src_ip'].apply(lambda z: check_infected(z, infected_ips))\n",
    "\n",
    "host_y = new_data_test['label'].values\n",
    "host_x = new_data_test.drop(['src_ip', 'label'], axis=1).values\n",
    "\n",
    "host_x=np.array([v[0] for v in host_x])\n",
    "\n",
    "host_y = np.array(host_y, dtype=int)"
   ]
  },
  {
   "cell_type": "markdown",
   "metadata": {},
   "source": [
    "### Perform classification"
   ]
  },
  {
   "cell_type": "code",
   "execution_count": 21,
   "metadata": {},
   "outputs": [
    {
     "name": "stdout",
     "output_type": "stream",
     "text": [
      "\n",
      "Start the classification process\n",
      "---------- Hold-out with RandomForestClassifier at packet level ----------\n",
      "TOTAL TP: 41652\n",
      "TOTAL FP: 2\n",
      "TOTAL FN: 3\n",
      "TOTAL TN: 1679\n",
      "TOTAL Accuracy: 0.9998846224847702\n",
      "TOTAL Precision: 0.9999519854035627\n",
      "TOTAL Recall: 0.9999279798343537\n",
      "---------- Cross-validation with RandomForestClassifier at packet level ----------\n",
      "TOTAL TP: 138838\n",
      "TOTAL FP: 3\n",
      "TOTAL FN: 10\n",
      "TOTAL TN: 5600\n",
      "TOTAL Accuracy: 0.99991000408443\n",
      "TOTAL Precision: 0.9999783925497512\n",
      "TOTAL Recall: 0.9999279787969578\n",
      "\n",
      "Start the classification process\n",
      "---------- Hold-out with RandomForestClassifier at host level ----------\n",
      "TOTAL TP: 0\n",
      "TOTAL FP: 0\n",
      "TOTAL FN: 1\n",
      "TOTAL TN: 30\n",
      "TOTAL Accuracy: 0.967741935483871\n",
      "TOTAL Precision: 1\n",
      "TOTAL Recall: 0.0\n",
      "---------- Cross-validation with RandomForestClassifier at host level ----------\n",
      "TOTAL TP: 2\n",
      "TOTAL FP: 1\n",
      "TOTAL FN: 1\n",
      "TOTAL TN: 98\n",
      "TOTAL Accuracy: 0.9803921568627451\n",
      "TOTAL Precision: 0.6666666666666666\n",
      "TOTAL Recall: 0.6666666666666666\n"
     ]
    }
   ],
   "source": [
    "# simple classifcation\n",
    "\n",
    "# set the classifiers\n",
    "clf_name = 'RandomForestClassifier'\n",
    "clf = RandomForestClassifier(n_estimators=50, criterion='gini', class_weight='balanced')\n",
    "\n",
    "\n",
    "# enter the classification phase for each level\n",
    "eval_levels = ['packet', 'host']  # the 2 evaluation levels\n",
    "\n",
    "\n",
    "for level in eval_levels:\n",
    "    # prepare the data according to the level\n",
    "\n",
    "    if level == 'host':\n",
    "        usx = np.copy(host_x)\n",
    "        usy = np.copy(host_y)\n",
    "    else:\n",
    "        usx = np.copy(packet_x)\n",
    "        usy = np.copy(packet_y)\n",
    "\n",
    "\n",
    "    # enter the classification phase\n",
    "    print('\\nStart the classification process')\n",
    "    make_clf(usx, usy, clf, clf_name, level)\n",
    "    make_clf_cross(usx, usy, clf, clf_name, level)"
   ]
  },
  {
   "cell_type": "code",
   "execution_count": null,
   "metadata": {},
   "outputs": [],
   "source": []
  }
 ],
 "metadata": {
  "kernelspec": {
   "display_name": "Python 3",
   "language": "python",
   "name": "python3"
  },
  "language_info": {
   "codemirror_mode": {
    "name": "ipython",
    "version": 3
   },
   "file_extension": ".py",
   "mimetype": "text/x-python",
   "name": "python",
   "nbconvert_exporter": "python",
   "pygments_lexer": "ipython3",
   "version": "3.6.8"
  }
 },
 "nbformat": 4,
 "nbformat_minor": 2
}
