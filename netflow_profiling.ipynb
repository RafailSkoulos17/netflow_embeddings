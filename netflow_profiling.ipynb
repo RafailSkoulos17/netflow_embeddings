{
 "cells": [
  {
   "cell_type": "code",
   "execution_count": 1,
   "metadata": {
    "pycharm": {
     "is_executing": false
    }
   },
   "outputs": [],
   "source": [
    "from hmmlearn.hmm import GaussianHMM, MultinomialHMM\n",
    "import os\n",
    "import pandas as pd\n",
    "import numpy as np\n",
    "import matplotlib.pyplot as plt\n",
    "from utils import read_data\n",
    "from gensim.models import FastText\n",
    "from copy import deepcopy\n",
    "from sklearn.model_selection import train_test_split\n",
    "from sklearn.ensemble import RandomForestClassifier\n",
    "from sklearn.model_selection import StratifiedKFold\n",
    "import warnings\n",
    "with warnings.catch_warnings():\n",
    "    warnings.filterwarnings(\"ignore\", category=DeprecationWarning)\n",
    "    from imblearn.over_sampling import SMOTE\n",
    "import pickle\n",
    "import math\n",
    "import random"
   ]
  },
  {
   "cell_type": "code",
   "execution_count": 2,
   "metadata": {
    "pycharm": {
     "is_executing": false
    }
   },
   "outputs": [],
   "source": [
    "def discretize_protocol(item):\n",
    "    return list(protocols).index(item)"
   ]
  },
  {
   "cell_type": "code",
   "execution_count": 3,
   "metadata": {
    "pycharm": {
     "is_executing": false
    }
   },
   "outputs": [],
   "source": [
    "infected_ips = ['147.32.84.165', '147.32.84.191', '147.32.84.192']\n",
    "normal_ips = ['147.32.84.170', '147.32.84.134', '147.32.84.164', '147.32.87.36', '147.32.80.9', '147.32.87.11']\n",
    "\n",
    "\n",
    "ip_to_profile = '147.32.84.165'\n",
    "data = read_data('datasets/CTU-Malware-Capture-Botnet-52')\n",
    "data.to_pickle('./data_52.pkl')\n",
    "# data = pd.read_pickle('./data_52.pkl')"
   ]
  },
  {
   "cell_type": "code",
   "execution_count": 4,
   "metadata": {
    "pycharm": {
     "is_executing": false
    }
   },
   "outputs": [],
   "source": [
    "# Used to keep the original data\n",
    "data_original = deepcopy(data)"
   ]
  },
  {
   "cell_type": "code",
   "execution_count": 5,
   "metadata": {
    "pycharm": {
     "is_executing": false
    }
   },
   "outputs": [],
   "source": [
    "# discretize protocol\n",
    "protocols = set(data.protocol.unique())\n",
    "data['protocol'] = data['protocol'].apply(lambda x: list(protocols).index(x))"
   ]
  },
  {
   "cell_type": "code",
   "execution_count": 6,
   "metadata": {
    "pycharm": {
     "is_executing": false
    }
   },
   "outputs": [],
   "source": [
    "# discretize flags\n",
    "\n",
    "flags = set(data.flags.unique())\n",
    "data['flags'] = data['flags'].apply(lambda x: list(flags).index(x))"
   ]
  },
  {
   "cell_type": "code",
   "execution_count": 7,
   "metadata": {
    "pycharm": {
     "is_executing": false
    }
   },
   "outputs": [],
   "source": [
    "# discretize label\n",
    "\n",
    "data['label'] = data['label'].replace('Botnet', 0)\n",
    "data['label'] = data['label'].replace('LEGITIMATE', 1)"
   ]
  },
  {
   "cell_type": "code",
   "execution_count": 8,
   "metadata": {
    "pycharm": {
     "is_executing": false
    }
   },
   "outputs": [],
   "source": [
    "# remove background flows and date\n",
    "\n",
    "data = data[data['label'] != 'Background']\n",
    "data.drop(['date'],1, inplace=True)"
   ]
  },
  {
   "cell_type": "code",
   "execution_count": 9,
   "metadata": {
    "pycharm": {
     "is_executing": false
    }
   },
   "outputs": [],
   "source": [
    "# replace 'na' values in  src and dst port\n",
    "\n",
    "data['src_port'] = data['src_port'].replace('na', 0)\n",
    "data['dst_port'] = data['dst_port'].replace('na', 0)"
   ]
  },
  {
   "cell_type": "code",
   "execution_count": 10,
   "metadata": {
    "pycharm": {
     "is_executing": false
    }
   },
   "outputs": [
    {
     "data": {
      "text/html": [
       "<div>\n",
       "<style scoped>\n",
       "    .dataframe tbody tr th:only-of-type {\n",
       "        vertical-align: middle;\n",
       "    }\n",
       "\n",
       "    .dataframe tbody tr th {\n",
       "        vertical-align: top;\n",
       "    }\n",
       "\n",
       "    .dataframe thead th {\n",
       "        text-align: right;\n",
       "    }\n",
       "</style>\n",
       "<table border=\"1\" class=\"dataframe\">\n",
       "  <thead>\n",
       "    <tr style=\"text-align: right;\">\n",
       "      <th></th>\n",
       "      <th>index</th>\n",
       "      <th>duration</th>\n",
       "      <th>protocol</th>\n",
       "      <th>src_ip</th>\n",
       "      <th>src_port</th>\n",
       "      <th>dst_ip</th>\n",
       "      <th>dst_port</th>\n",
       "      <th>flags</th>\n",
       "      <th>tos</th>\n",
       "      <th>packets</th>\n",
       "      <th>bytes</th>\n",
       "      <th>flows</th>\n",
       "      <th>label</th>\n",
       "    </tr>\n",
       "  </thead>\n",
       "  <tbody>\n",
       "    <tr>\n",
       "      <th>0</th>\n",
       "      <td>21</td>\n",
       "      <td>0.000</td>\n",
       "      <td>2</td>\n",
       "      <td>147.32.86.194</td>\n",
       "      <td>3972</td>\n",
       "      <td>173.194.1.27</td>\n",
       "      <td>80</td>\n",
       "      <td>38</td>\n",
       "      <td>0</td>\n",
       "      <td>2</td>\n",
       "      <td>108</td>\n",
       "      <td>1</td>\n",
       "      <td>1</td>\n",
       "    </tr>\n",
       "    <tr>\n",
       "      <th>1</th>\n",
       "      <td>22</td>\n",
       "      <td>0.015</td>\n",
       "      <td>2</td>\n",
       "      <td>147.32.86.194</td>\n",
       "      <td>3974</td>\n",
       "      <td>74.125.108.185</td>\n",
       "      <td>80</td>\n",
       "      <td>38</td>\n",
       "      <td>0</td>\n",
       "      <td>2</td>\n",
       "      <td>108</td>\n",
       "      <td>1</td>\n",
       "      <td>1</td>\n",
       "    </tr>\n",
       "    <tr>\n",
       "      <th>2</th>\n",
       "      <td>35</td>\n",
       "      <td>0.000</td>\n",
       "      <td>2</td>\n",
       "      <td>147.32.84.28</td>\n",
       "      <td>56781</td>\n",
       "      <td>147.32.80.13</td>\n",
       "      <td>80</td>\n",
       "      <td>165</td>\n",
       "      <td>0</td>\n",
       "      <td>2</td>\n",
       "      <td>132</td>\n",
       "      <td>1</td>\n",
       "      <td>1</td>\n",
       "    </tr>\n",
       "    <tr>\n",
       "      <th>3</th>\n",
       "      <td>36</td>\n",
       "      <td>0.117</td>\n",
       "      <td>2</td>\n",
       "      <td>147.32.84.164</td>\n",
       "      <td>57264</td>\n",
       "      <td>64.12.68.227</td>\n",
       "      <td>443</td>\n",
       "      <td>185</td>\n",
       "      <td>0</td>\n",
       "      <td>2</td>\n",
       "      <td>114</td>\n",
       "      <td>1</td>\n",
       "      <td>1</td>\n",
       "    </tr>\n",
       "    <tr>\n",
       "      <th>4</th>\n",
       "      <td>37</td>\n",
       "      <td>0.117</td>\n",
       "      <td>2</td>\n",
       "      <td>147.32.84.164</td>\n",
       "      <td>43869</td>\n",
       "      <td>64.12.73.134</td>\n",
       "      <td>443</td>\n",
       "      <td>185</td>\n",
       "      <td>0</td>\n",
       "      <td>2</td>\n",
       "      <td>114</td>\n",
       "      <td>1</td>\n",
       "      <td>1</td>\n",
       "    </tr>\n",
       "  </tbody>\n",
       "</table>\n",
       "</div>"
      ],
      "text/plain": [
       "   index  duration  protocol         src_ip src_port          dst_ip dst_port  \\\n",
       "0     21     0.000         2  147.32.86.194     3972    173.194.1.27       80   \n",
       "1     22     0.015         2  147.32.86.194     3974  74.125.108.185       80   \n",
       "2     35     0.000         2   147.32.84.28    56781    147.32.80.13       80   \n",
       "3     36     0.117         2  147.32.84.164    57264    64.12.68.227      443   \n",
       "4     37     0.117         2  147.32.84.164    43869    64.12.73.134      443   \n",
       "\n",
       "   flags  tos  packets  bytes  flows label  \n",
       "0     38    0        2    108      1     1  \n",
       "1     38    0        2    108      1     1  \n",
       "2    165    0        2    132      1     1  \n",
       "3    185    0        2    114      1     1  \n",
       "4    185    0        2    114      1     1  "
      ]
     },
     "execution_count": 10,
     "metadata": {},
     "output_type": "execute_result"
    }
   ],
   "source": [
    "data.reset_index(inplace=True)\n",
    "data.head()"
   ]
  },
  {
   "cell_type": "markdown",
   "metadata": {},
   "source": [
    "## Profiling without embeddings"
   ]
  },
  {
   "cell_type": "code",
   "execution_count": 11,
   "metadata": {
    "pycharm": {
     "is_executing": false
    }
   },
   "outputs": [],
   "source": [
    "# Chosen IP to profile\n",
    "chosen = data[(data['src_ip'] == ip_to_profile) | (data['dst_ip'] == ip_to_profile)]\n"
   ]
  },
  {
   "cell_type": "code",
   "execution_count": 12,
   "metadata": {
    "pycharm": {
     "is_executing": false
    }
   },
   "outputs": [],
   "source": [
    "def get_windows(data, window_size):\n",
    "    curr_data = data.drop(['src_ip', 'dst_ip', 'label'], 1)\n",
    "    size = len(curr_data) - window_size\n",
    "    \n",
    "    # create sliding window data\n",
    "    win_data = np.zeros((10,size,window_size),dtype=np.float)\n",
    "    headers = list(curr_data.columns.values)\n",
    "    for ind, h in enumerate(headers):\n",
    "        for i in range(size):\n",
    "            win_data[ind][i] = np.array([flow for flow in curr_data.iloc[i:i+window_size][h].values])\n",
    "    X = np.concatenate([w for w in win_data])\n",
    "    lengths = [len(w) for w in win_data]\n",
    "    return X, lengths"
   ]
  },
  {
   "cell_type": "code",
   "execution_count": 13,
   "metadata": {
    "pycharm": {
     "is_executing": false
    }
   },
   "outputs": [],
   "source": [
    "def find_optimal_params(chosen):\n",
    "    max_ll = -math.inf\n",
    "    optimal_win = 0\n",
    "    optimal_components= 0\n",
    "    for comp in range(2,7):\n",
    "        for win in  range(2,11):\n",
    "            win_data, lengths = get_windows(chosen, win)\n",
    "            hmm = GaussianHMM(n_components=comp)\n",
    "            hmm.fit(win_data, lengths)\n",
    "            log_likelihood = hmm.decode(win_data)[0]\n",
    "            if log_likelihood > max_ll:\n",
    "                max_ll = log_likelihood\n",
    "                optimal_win = win\n",
    "                optimal_components = comp\n",
    "            print('Window=%d ,Components=%d, Log-likelihood=%.3f' %(win,comp,log_likelihood))\n",
    "    print('Optimal values: Window=%d, Components=%d' %(optimal_win, optimal_components))\n",
    "    return optimal_win, optimal_components"
   ]
  },
  {
   "cell_type": "markdown",
   "metadata": {},
   "source": [
    "### Model the chosen IP"
   ]
  },
  {
   "cell_type": "code",
   "execution_count": 14,
   "metadata": {
    "pycharm": {
     "is_executing": false
    }
   },
   "outputs": [],
   "source": [
    "# get the optimal window size and number of components for the HMM\n",
    "# win, components = find_optimal_params(chosen)\n",
    "win, components = 4,4\n",
    "\n",
    "win_data, lengths = get_windows(chosen, win)\n",
    "\n",
    "# learn a Gaussian Hidden Markov Model with 4 states from the infected host data\n",
    "hmm = GaussianHMM(n_components=components)\n",
    "# hmm = MultinomialHMM(n_components=components)\n",
    "# MultinomialHMM\n",
    "hmm.fit(win_data, lengths)\n",
    "# store the log-likelihood of the host that trained the model\n",
    "log_likelihood = hmm.decode(win_data)[0]"
   ]
  },
  {
   "cell_type": "markdown",
   "metadata": {},
   "source": [
    "### Compute the log-likelihood of the other hosts (infected and normal) with the examined host "
   ]
  },
  {
   "cell_type": "code",
   "execution_count": 15,
   "metadata": {},
   "outputs": [],
   "source": [
    "hosts_log_likelihood = {}\n",
    "# compute log-likelihood of data sequence of normal IPs\n",
    "for ip in normal_ips:\n",
    "    # get the flows of that host only\n",
    "    host_data = data[(data['src_ip'] == ip) | (data['dst_ip'] == ip)]\n",
    "    size = len(host_data) - win\n",
    "    # if host has enough flows for creating a window\n",
    "    if size > 0:\n",
    "        # create sliding windows sequences\n",
    "        normal_data, lengths = get_windows(host_data, win)\n",
    "        # get the log-likelihood of the sequential data\n",
    "        hosts_log_likelihood[ip] = hmm.decode(normal_data, lengths)[0]\n",
    "    else:\n",
    "        hosts_log_likelihood[ip] = 0\n",
    "\n",
    "# repeat procedure for all infected IPs\n",
    "for ip in infected_ips:\n",
    "    # get the flows of that host only\n",
    "    host_data = data[(data['src_ip'] == ip) | (data['dst_ip'] == ip)]\n",
    "    size = len(host_data) - win\n",
    "    # if host has enough flows for creating a window\n",
    "    if size > 0:\n",
    "        # create sliding windows sequences\n",
    "        infected_data,lengths = get_windows(host_data, win)\n",
    "        # get the log-likelihood of the sequential data\n",
    "        hosts_log_likelihood[ip] = hmm.decode(infected_data, lengths)[0]\n",
    "    else:\n",
    "        hosts_log_likelihood[ip] = 0"
   ]
  },
  {
   "cell_type": "markdown",
   "metadata": {},
   "source": [
    "### Plot the log-likelihood for all hosts"
   ]
  },
  {
   "cell_type": "code",
   "execution_count": 16,
   "metadata": {},
   "outputs": [
    {
     "data": {
      "image/png": "[encoded data removed]",
      "text/plain": [
       "<Figure size 432x288 with 1 Axes>"
      ]
     },
     "metadata": {
      "needs_background": "light"
     },
     "output_type": "display_data"
    }
   ],
   "source": [
    "infected_ips = ['147.32.84.165', '147.32.84.191', '147.32.84.192']\n",
    "normal_ips = ['147.32.84.170', '147.32.84.134', '147.32.84.164', '147.32.87.36', '147.32.80.9', '147.32.87.11']\n",
    "\n",
    "fig, ax = plt.subplots()\n",
    "xticks = ['n'+str(i) for i in range(1,7)] + ['i'+str(i) for i in range(1,4)]\n",
    "h = [v[1] for v in hosts_log_likelihood.items()]\n",
    "plt.bar(list(range(6)), h[:6])\n",
    "plt.bar(list(range(6,9)), h[6:])\n",
    "plt.xlabel('Hosts')\n",
    "plt.ylabel('Log-likelihood')\n",
    "plt.title('Log-likelihood of other hosts with modelled infected host',y=-0.2 )\n",
    "ax.set_xticks([0,1,2,3,4,5,6,7,8])\n",
    "ax.set_xticklabels(xticks)\n",
    "plt.tick_params(\n",
    "    axis='x',          # changes apply to the x-axis\n",
    "    which='both',      # both major and minor ticks are affected\n",
    "    bottom=False,      # ticks along the bottom edge are off\n",
    "    top=False,         # ticks along the top edge are off\n",
    "    labelbottom=True) # labels along the bottom edge are off\n",
    "# plt.savefig('log_likelihood.png',  bbox_inches='tight')\n",
    "plt.show()"
   ]
  },
  {
   "cell_type": "markdown",
   "metadata": {},
   "source": [
    "### Identify normal and indected hosts"
   ]
  },
  {
   "cell_type": "code",
   "execution_count": 17,
   "metadata": {},
   "outputs": [
    {
     "name": "stdout",
     "output_type": "stream",
     "text": [
      "True Positives : 2\n",
      "False Positives : 0\n",
      "True Negatives : 6\n",
      "False Negatives : 1\n",
      "Precision: 1.0\n",
      "Recall: 0.6666666666666666\n",
      "Accuracy: 0.8888888888888888\n"
     ]
    }
   ],
   "source": [
    "# evaluate results using the log-likelihood distance of hosts from the one who trained the model\n",
    "TP = 0\n",
    "TN = 0\n",
    "FP = 0\n",
    "FN = 0\n",
    "positives = []\n",
    "negatives = []\n",
    "\n",
    "# \n",
    "dist = {}\n",
    "for ip in hosts_log_likelihood.keys():\n",
    "    # absolute log-likelihood distance\n",
    "    dist[ip] = abs(hosts_log_likelihood[ip] - log_likelihood)\n",
    "\n",
    "    # threshold is half log-likelihood\n",
    "    if dist[ip] > abs(log_likelihood / 2):\n",
    "        negatives.append(ip)\n",
    "    else:\n",
    "        positives.append(ip)\n",
    "\n",
    "# evaluate all potentially malicious hosts\n",
    "for i in positives:\n",
    "    if i in infected_ips:\n",
    "        TP += 1\n",
    "    else:\n",
    "        FP += 1\n",
    "\n",
    "# evaluate all potentially benign hosts\n",
    "for i in negatives:\n",
    "    if i in normal_ips:\n",
    "        TN += 1\n",
    "    else:\n",
    "        FN += 1\n",
    "if TP + FP == 0:\n",
    "    precision = 0\n",
    "else:\n",
    "    precision = TP / (TP + FP)\n",
    "recall = TP / (TP + FN)\n",
    "accuracy = (TP + TN) / (TP + TN + FP + FN)\n",
    "print('True Positives : {}'.format(TP))\n",
    "print('False Positives : {}'.format(FP))\n",
    "print('True Negatives : {}'.format(TN))\n",
    "print('False Negatives : {}'.format(FN))\n",
    "print('Precision: {}'.format(precision))\n",
    "print('Recall: {}'.format(recall))\n",
    "print('Accuracy: {}'.format(accuracy))"
   ]
  },
  {
   "cell_type": "markdown",
   "metadata": {},
   "source": [
    "## Profiling with embeddings"
   ]
  },
  {
   "cell_type": "code",
   "execution_count": 18,
   "metadata": {},
   "outputs": [],
   "source": [
    "def check_infected(val, infected_ips):\n",
    "    \"\"\"\n",
    "    Function to assign labels to instances given their ip\n",
    "    :param val: the flow to be checked\n",
    "    :param infected_ips: the list of infected hosts\n",
    "    :return: 1 if val is in the infected list otherwise 0\n",
    "    \"\"\"\n",
    "    return 1 if val in infected_ips else 0"
   ]
  },
  {
   "cell_type": "code",
   "execution_count": 19,
   "metadata": {},
   "outputs": [],
   "source": [
    "def embedding_host_level(z):\n",
    "    x = []\n",
    "    for i,flow in enumerate(z.iterrows()):\n",
    "        x.append(list(model.wv[z.iloc[i]].sum(axis=0)))\n",
    "    x = np.array(x)\n",
    "    return x.mean(axis=0)"
   ]
  },
  {
   "cell_type": "code",
   "execution_count": 20,
   "metadata": {},
   "outputs": [],
   "source": [
    "def get_windows_embeddings(data, window_size):\n",
    "#     curr_data = data.drop(['src_ip', 'dst_ip', 'label'], 1)\n",
    "    curr_data = deepcopy(data)\n",
    "    size = len(curr_data) - window_size\n",
    "\n",
    "    # create sliding window data\n",
    "    win_data = np.zeros((curr_data.shape[1], size, window_size),dtype=np.float)\n",
    "    for ind in range(curr_data.shape[1]):\n",
    "        for i in range(size):\n",
    "            win_data[ind][i] = np.array(curr_data[i:i+window_size, ind])\n",
    "            \n",
    "    X = np.concatenate([w for w in win_data])\n",
    "    lengths = [len(w) for w in win_data]\n",
    "    return X, lengths"
   ]
  },
  {
   "cell_type": "markdown",
   "metadata": {},
   "source": [
    "### Split data for training the FASTTEXT model"
   ]
  },
  {
   "cell_type": "code",
   "execution_count": 21,
   "metadata": {},
   "outputs": [],
   "source": [
    "# split data for the fasttext model training and testing\n",
    "\n",
    "data_train, data_test = train_test_split(data, test_size=0.5, stratify=data['label'])"
   ]
  },
  {
   "cell_type": "code",
   "execution_count": 22,
   "metadata": {},
   "outputs": [],
   "source": [
    "# # train model\n",
    "\n",
    "# df = data_train.apply(lambda x: ','.join(x.astype(str)), axis=1)\n",
    "# sent = [row.split(',') for row in df]\n",
    "# model = FastText(sent, min_count=1, size=50, workers=2, window=3, sg=1)\n",
    "\n",
    "# # save model\n",
    "# if not os.path.exists('models'):\n",
    "#     os.makedirs('models')\n",
    "# fname = 'models/fasttext.model'\n",
    "# model.save(fname)\n",
    "\n",
    "# load trained model\n",
    "fname = 'models/fasttext.model'\n",
    "model = FastText.load(fname)"
   ]
  },
  {
   "cell_type": "code",
   "execution_count": 23,
   "metadata": {},
   "outputs": [],
   "source": [
    "infected_ip = '147.32.84.165'\n",
    "infected_host_dataset = data[(data['src_ip'] == infected_ip) | (data['dst_ip'] == infected_ip)]\n"
   ]
  },
  {
   "cell_type": "markdown",
   "metadata": {},
   "source": [
    "### Function to get the embeddings of all flows for a chosen host"
   ]
  },
  {
   "cell_type": "code",
   "execution_count": 24,
   "metadata": {},
   "outputs": [],
   "source": [
    "# Build the train data for packet level\n",
    "def get_embeddings(infected_host_dataset, model):\n",
    "    packet_x = []\n",
    "\n",
    "    new_infected_host_dataset = infected_host_dataset.drop('label', 1)\n",
    "    # new_infected_host_dataset = new_infected_host_dataset.drop('date', 1)\n",
    "\n",
    "    for i,flow in enumerate(infected_host_dataset.iterrows()):\n",
    "        packet_x.append(list(model.wv[infected_host_dataset.iloc[i]].sum(axis=0)))\n",
    "\n",
    "    packet_x = np.array(packet_x)\n",
    "    return packet_x\n"
   ]
  },
  {
   "cell_type": "code",
   "execution_count": 25,
   "metadata": {},
   "outputs": [],
   "source": [
    "X = get_embeddings(infected_host_dataset, model)"
   ]
  },
  {
   "cell_type": "markdown",
   "metadata": {},
   "source": [
    "### Model the chosen infected host"
   ]
  },
  {
   "cell_type": "code",
   "execution_count": 26,
   "metadata": {},
   "outputs": [],
   "source": [
    "# get the optimal window size and number of components for the HMM\n",
    "# win, components = find_optimal_params(chosen)\n",
    "win, components = 4,4\n",
    "\n",
    "win_data, lengths = get_windows_embeddings(X, win)\n",
    "\n",
    "# learn a Gaussian Hidden Markov Model with 4 states from the infected host data\n",
    "hmm = GaussianHMM(n_components=components)\n",
    "# hmm = MultinomialHMM(n_components=components)\n",
    "# MultinomialHMM\n",
    "hmm.fit(win_data, lengths)\n",
    "# store the log-likelihood of the host that trained the model\n",
    "log_likelihood = hmm.decode(win_data)[0]"
   ]
  },
  {
   "cell_type": "markdown",
   "metadata": {},
   "source": [
    "### Compute the log-likelihood of the other hosts (infected and normal) with the examined host "
   ]
  },
  {
   "cell_type": "code",
   "execution_count": 27,
   "metadata": {},
   "outputs": [],
   "source": [
    "hosts_log_likelihood = {}\n",
    "# compute log-likelihood of data sequence of normal IPs\n",
    "for ip in normal_ips:\n",
    "    # get the flows of that host only\n",
    "    host_data = data[(data['src_ip'] == ip) | (data['dst_ip'] == ip)]\n",
    "    if not host_data.empty:\n",
    "        size = len(host_data) - win\n",
    "        host_data = get_embeddings(host_data, model)\n",
    "        # if host has enough flows for creating a window\n",
    "        if size > 0:\n",
    "            # create sliding windows sequences\n",
    "            normal_data, lengths = get_windows_embeddings(host_data, win)\n",
    "            # get the log-likelihood of the sequential data\n",
    "            hosts_log_likelihood[ip] = hmm.decode(normal_data, lengths)[0]\n",
    "        else:\n",
    "            hosts_log_likelihood[ip] = 0\n",
    "\n",
    "# repeat procedure for all infected IPs\n",
    "for ip in infected_ips:\n",
    "    # get the flows of that host only\n",
    "    host_data = data[(data['src_ip'] == ip) | (data['dst_ip'] == ip)]\n",
    "    if not host_data.empty:\n",
    "        size = len(host_data) - win\n",
    "        host_data = get_embeddings(host_data, model)\n",
    "        # if host has enough flows for creating a window\n",
    "        if size > 0:\n",
    "            # create sliding windows sequences\n",
    "            infected_data,lengths = get_windows_embeddings(host_data, win)\n",
    "            # get the log-likelihood of the sequential data\n",
    "            hosts_log_likelihood[ip] = hmm.decode(infected_data, lengths)[0]\n",
    "        else:\n",
    "            hosts_log_likelihood[ip] = 0"
   ]
  },
  {
   "cell_type": "markdown",
   "metadata": {},
   "source": [
    "### Plot the log-likelihood for all hosts"
   ]
  },
  {
   "cell_type": "code",
   "execution_count": 28,
   "metadata": {},
   "outputs": [
    {
     "data": {
      "image/png": "[encoded data removed]",
      "text/plain": [
       "<Figure size 432x288 with 1 Axes>"
      ]
     },
     "metadata": {
      "needs_background": "light"
     },
     "output_type": "display_data"
    }
   ],
   "source": [
    "infected_ips = ['147.32.84.165', '147.32.84.191', '147.32.84.192']\n",
    "normal_ips = ['147.32.84.170', '147.32.84.134', '147.32.84.164', '147.32.87.36', '147.32.80.9', '147.32.87.11']\n",
    "\n",
    "fig, ax = plt.subplots()\n",
    "xticks = ['n'+str(i) for i in range(1,6)] + ['i'+str(i) for i in range(1,4)]\n",
    "h = [v[1] for v in hosts_log_likelihood.items()]\n",
    "plt.bar(list(range(5)), h[:5])\n",
    "plt.bar(list(range(5, 8)), h[5:])\n",
    "plt.xlabel('Hosts')\n",
    "plt.ylabel('Log-likelihood')\n",
    "plt.title('Log-likelihood of other hosts with modelled infected host',y=-0.2 )\n",
    "ax.set_xticks([0,1,2,3,4,5,6,7])\n",
    "ax.set_xticklabels(xticks)\n",
    "plt.tick_params(\n",
    "    axis='x',          # changes apply to the x-axis\n",
    "    which='both',      # both major and minor ticks are affected\n",
    "    bottom=False,      # ticks along the bottom edge are off\n",
    "    top=False,         # ticks along the top edge are off\n",
    "    labelbottom=True) # labels along the bottom edge are off\n",
    "# plt.savefig('log_likelihood.png',  bbox_inches='tight')\n",
    "plt.show()"
   ]
  },
  {
   "cell_type": "markdown",
   "metadata": {},
   "source": [
    "### Identify normal and infected hosts"
   ]
  },
  {
   "cell_type": "code",
   "execution_count": 29,
   "metadata": {},
   "outputs": [
    {
     "name": "stdout",
     "output_type": "stream",
     "text": [
      "True Positives : 2\n",
      "False Positives : 0\n",
      "True Negatives : 5\n",
      "False Negatives : 1\n",
      "Precision: 1.0\n",
      "Recall: 0.6666666666666666\n",
      "Accuracy: 0.875\n"
     ]
    }
   ],
   "source": [
    "# evaluate results using the log-likelihood distance of hosts from the one who trained the model\n",
    "TP = 0\n",
    "TN = 0\n",
    "FP = 0\n",
    "FN = 0\n",
    "positives = []\n",
    "negatives = []\n",
    "\n",
    "# \n",
    "dist = {}\n",
    "for ip in hosts_log_likelihood.keys():\n",
    "    # absolute log-likelihood distance\n",
    "    dist[ip] = abs(hosts_log_likelihood[ip] - log_likelihood)\n",
    "    # threshold is half log-likelihood\n",
    "    if dist[ip] > abs(log_likelihood / 2):\n",
    "        negatives.append(ip)\n",
    "    else:\n",
    "        positives.append(ip)\n",
    "\n",
    "# evaluate all potentially malicious hosts\n",
    "for i in positives:\n",
    "    if i in infected_ips:\n",
    "        TP += 1\n",
    "    else:\n",
    "        FP += 1\n",
    "\n",
    "# evaluate all potentially benign hosts\n",
    "for i in negatives:\n",
    "    if i in normal_ips:\n",
    "        TN += 1\n",
    "    else:\n",
    "        FN += 1\n",
    "if TP + FP == 0:\n",
    "    precision = 0\n",
    "else:\n",
    "    precision = TP / (TP + FP)\n",
    "recall = TP / (TP + FN)\n",
    "accuracy = (TP + TN) / (TP + TN + FP + FN)\n",
    "print('True Positives : {}'.format(TP))\n",
    "print('False Positives : {}'.format(FP))\n",
    "print('True Negatives : {}'.format(TN))\n",
    "print('False Negatives : {}'.format(FN))\n",
    "print('Precision: {}'.format(precision))\n",
    "print('Recall: {}'.format(recall))\n",
    "print('Accuracy: {}'.format(accuracy))"
   ]
  },
  {
   "cell_type": "code",
   "execution_count": null,
   "metadata": {},
   "outputs": [],
   "source": []
  }
 ],
 "metadata": {
  "kernelspec": {
   "display_name": "Python 3",
   "language": "python",
   "name": "python3"
  },
  "language_info": {
   "codemirror_mode": {
    "name": "ipython",
    "version": 3
   },
   "file_extension": ".py",
   "mimetype": "text/x-python",
   "name": "python",
   "nbconvert_exporter": "python",
   "pygments_lexer": "ipython3",
   "version": "3.6.8"
  },
  "pycharm": {
   "stem_cell": {
    "cell_type": "raw",
    "metadata": {
     "collapsed": false
    },
    "source": []
   }
  }
 },
 "nbformat": 4,
 "nbformat_minor": 2
}
